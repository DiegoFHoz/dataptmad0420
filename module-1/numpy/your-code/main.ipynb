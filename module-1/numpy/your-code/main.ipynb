{
 "cells": [
  {
   "cell_type": "markdown",
   "metadata": {},
   "source": [
    "# Introduction to NumPy\n",
    "\n",
    "\n",
    "#### 1. Import NumPy under the name np."
   ]
  },
  {
   "cell_type": "code",
   "execution_count": 2,
   "metadata": {},
   "outputs": [],
   "source": [
    "# your code here\n",
    "import numpy as np"
   ]
  },
  {
   "cell_type": "markdown",
   "metadata": {},
   "source": [
    "#### 2. Print your NumPy version."
   ]
  },
  {
   "cell_type": "code",
   "execution_count": 4,
   "metadata": {},
   "outputs": [
    {
     "data": {
      "text/plain": [
       "'1.18.1'"
      ]
     },
     "execution_count": 4,
     "metadata": {},
     "output_type": "execute_result"
    }
   ],
   "source": [
    "# your code here\n",
    "np.__version__"
   ]
  },
  {
   "cell_type": "markdown",
   "metadata": {},
   "source": [
    "#### 3. Generate a 2x3x5 3-dimensional array with random values. Assign the array to variable *a*.\n",
    "**Challenge**: there are at least three easy ways that use numpy to generate random arrays. How many ways can you find?"
   ]
  },
  {
   "cell_type": "code",
   "execution_count": 5,
   "metadata": {},
   "outputs": [
    {
     "data": {
      "text/plain": [
       "array([[[10, 91,  5, 55, 10],\n",
       "        [98, 91, 88,  3, 48],\n",
       "        [47, 56, 56, 68, 14]],\n",
       "\n",
       "       [[ 5, 79, 32, 96, 52],\n",
       "        [39, 68, 35, 36, 22],\n",
       "        [ 7, 97, 58, 67, 40]]])"
      ]
     },
     "execution_count": 5,
     "metadata": {},
     "output_type": "execute_result"
    }
   ],
   "source": [
    "# Method 1\n",
    "a= np.random.randint(0,100,(2,3,5))\n",
    "\n",
    "a"
   ]
  },
  {
   "cell_type": "code",
   "execution_count": 6,
   "metadata": {},
   "outputs": [
    {
     "name": "stdout",
     "output_type": "stream",
     "text": [
      "[[[0.19692427 0.32363212 0.61765257 0.86483241 0.0729628 ]\n",
      "  [0.03083869 0.80210505 0.65412873 0.76900542 0.2291921 ]\n",
      "  [0.55884073 0.42549165 0.85108536 0.32298368 0.37486571]]\n",
      "\n",
      " [[0.32921174 0.51334244 0.01633957 0.05118729 0.31966459]\n",
      "  [0.8743928  0.48843069 0.08981702 0.92856992 0.17889114]\n",
      "  [0.26955435 0.02880264 0.49224955 0.81285375 0.61135868]]]\n"
     ]
    }
   ],
   "source": [
    "# Method 2\n",
    "a= np.random.rand(2,3,5)\n",
    "\n",
    "print(a)"
   ]
  },
  {
   "cell_type": "code",
   "execution_count": 7,
   "metadata": {},
   "outputs": [
    {
     "name": "stdout",
     "output_type": "stream",
     "text": [
      "[[[-0.23544732 -0.39180162 -0.61432502 -0.48526967 -0.63588328]\n",
      "  [-0.03005625 -0.90808502 -0.56415191 -0.39986886 -0.02113693]\n",
      "  [-0.181079   -0.06330404 -0.65153868 -0.10123755 -0.92303017]]\n",
      "\n",
      " [[-0.36654123 -0.79557991 -0.5194453  -0.76434022 -0.56857109]\n",
      "  [-0.30930061 -0.59218963 -0.73815963 -0.86224756 -0.12016584]\n",
      "  [-0.5049171  -0.68542937 -0.86379436 -0.42593921 -0.14565677]]]\n"
     ]
    }
   ],
   "source": [
    "# Method 3\n",
    "a= np.random.random_sample((2,3,5))-1\n",
    "\n",
    "print(a)"
   ]
  },
  {
   "cell_type": "code",
   "execution_count": 8,
   "metadata": {},
   "outputs": [
    {
     "name": "stdout",
     "output_type": "stream",
     "text": [
      "[[[3 5 1 1 1]\n",
      "  [3 1 5 3 5]\n",
      "  [3 1 1 5 5]]\n",
      "\n",
      " [[3 1 1 1 1]\n",
      "  [3 5 5 5 3]\n",
      "  [1 5 3 5 1]]]\n"
     ]
    }
   ],
   "source": [
    "a= np.random.choice([1,3,5], (2,3,5))\n",
    "\n",
    "print(a)"
   ]
  },
  {
   "cell_type": "markdown",
   "metadata": {},
   "source": [
    "#### 4. Print *a*.\n"
   ]
  },
  {
   "cell_type": "code",
   "execution_count": 10,
   "metadata": {},
   "outputs": [
    {
     "data": {
      "text/plain": [
       "array([[[0.10711714, 0.70653072, 0.96484236, 0.86808757, 0.46794565],\n",
       "        [0.7738921 , 0.80861371, 0.06225016, 0.57230432, 0.8203718 ],\n",
       "        [0.86544161, 0.15592042, 0.49106867, 0.22546097, 0.79216366]],\n",
       "\n",
       "       [[0.41200928, 0.81543299, 0.37052633, 0.41592597, 0.17378356],\n",
       "        [0.55466678, 0.10287698, 0.51122617, 0.25044351, 0.03244299],\n",
       "        [0.00955918, 0.38669894, 0.5138264 , 0.51756168, 0.56731472]]])"
      ]
     },
     "execution_count": 10,
     "metadata": {},
     "output_type": "execute_result"
    }
   ],
   "source": [
    "# your code here\n",
    "a= np.random.random((2,3,5))\n",
    "\n",
    "a"
   ]
  },
  {
   "cell_type": "markdown",
   "metadata": {},
   "source": [
    "#### 5. Create a 5x2x3 3-dimensional array with all values equaling 1. Assign the array to variable *b*."
   ]
  },
  {
   "cell_type": "code",
   "execution_count": 19,
   "metadata": {},
   "outputs": [],
   "source": [
    "# your code here\n",
    "b=np.ones((5,3,2))"
   ]
  },
  {
   "cell_type": "markdown",
   "metadata": {},
   "source": [
    "#### 6. Print *b*.\n"
   ]
  },
  {
   "cell_type": "code",
   "execution_count": 13,
   "metadata": {},
   "outputs": [
    {
     "data": {
      "text/plain": [
       "array([[[1., 1.],\n",
       "        [1., 1.],\n",
       "        [1., 1.]],\n",
       "\n",
       "       [[1., 1.],\n",
       "        [1., 1.],\n",
       "        [1., 1.]],\n",
       "\n",
       "       [[1., 1.],\n",
       "        [1., 1.],\n",
       "        [1., 1.]],\n",
       "\n",
       "       [[1., 1.],\n",
       "        [1., 1.],\n",
       "        [1., 1.]],\n",
       "\n",
       "       [[1., 1.],\n",
       "        [1., 1.],\n",
       "        [1., 1.]]])"
      ]
     },
     "execution_count": 13,
     "metadata": {},
     "output_type": "execute_result"
    }
   ],
   "source": [
    "# your code here\n",
    "b"
   ]
  },
  {
   "cell_type": "markdown",
   "metadata": {},
   "source": [
    "#### 7. Do *a* and *b* have the same size? How do you prove that in Python code?"
   ]
  },
  {
   "cell_type": "code",
   "execution_count": 14,
   "metadata": {},
   "outputs": [
    {
     "name": "stdout",
     "output_type": "stream",
     "text": [
      "True\n"
     ]
    }
   ],
   "source": [
    "# your code here\n",
    "if a.size==b.size:\n",
    "    print(True)\n",
    "else:\n",
    "    print(False)"
   ]
  },
  {
   "cell_type": "markdown",
   "metadata": {},
   "source": [
    "#### 8. Are you able to add *a* and *b*? Why or why not?\n"
   ]
  },
  {
   "cell_type": "code",
   "execution_count": 16,
   "metadata": {},
   "outputs": [
    {
     "name": "stdout",
     "output_type": "stream",
     "text": [
      "[1.10711714 1.70653072 1.96484236 1.86808757 1.46794565 1.7738921\n",
      " 1.80861371 1.06225016 1.57230432 1.8203718  1.86544161 1.15592042\n",
      " 1.49106867 1.22546097 1.79216366 1.41200928 1.81543299 1.37052633\n",
      " 1.41592597 1.17378356 1.55466678 1.10287698 1.51122617 1.25044351\n",
      " 1.03244299 1.00955918 1.38669894 1.5138264  1.51756168 1.56731472]\n"
     ]
    }
   ],
   "source": [
    "# your answer here\n",
    "a=np.reshape(a,a.size)\n",
    "b=np.reshape(b,b.size)\n",
    "\n",
    "#You can make the add with numpy arrays if they have the same shape. \n",
    "#In this case, since they have the same size, what we could do is reshape and then add the arrays\n",
    "\n",
    "print(np.add(a,b))\n"
   ]
  },
  {
   "cell_type": "markdown",
   "metadata": {},
   "source": [
    "#### 9. Transpose *b* so that it has the same structure of *a* (i.e. become a 2x3x5 array). Assign the transposed array to variable *c*."
   ]
  },
  {
   "cell_type": "code",
   "execution_count": 20,
   "metadata": {
    "scrolled": true
   },
   "outputs": [
    {
     "name": "stdout",
     "output_type": "stream",
     "text": [
      "[[[1. 1. 1. 1. 1.]\n",
      "  [1. 1. 1. 1. 1.]\n",
      "  [1. 1. 1. 1. 1.]]\n",
      "\n",
      " [[1. 1. 1. 1. 1.]\n",
      "  [1. 1. 1. 1. 1.]\n",
      "  [1. 1. 1. 1. 1.]]]\n"
     ]
    }
   ],
   "source": [
    "# your code here\n",
    "a= np.random.random((2,3,5))\n",
    "b=np.ones((5,3,2))\n",
    "\n",
    "\n",
    "c= np.transpose(b)\n",
    "print(c)\n"
   ]
  },
  {
   "cell_type": "markdown",
   "metadata": {},
   "source": [
    "#### 10. Try to add *a* and *c*. Now it should work. Assign the sum to variable *d*. But why does it work now?"
   ]
  },
  {
   "cell_type": "code",
   "execution_count": 22,
   "metadata": {},
   "outputs": [
    {
     "data": {
      "text/plain": [
       "array([[[1.1711047 , 1.90780295, 1.16939483, 1.19732909, 1.63467959],\n",
       "        [1.58683358, 1.62160708, 1.89905277, 1.09520157, 1.37340338],\n",
       "        [1.80209481, 1.89220193, 1.46408587, 1.37820546, 1.20352308]],\n",
       "\n",
       "       [[1.15090699, 1.78610244, 1.8967913 , 1.4513328 , 1.9379103 ],\n",
       "        [1.36705642, 1.73399762, 1.15900843, 1.81605231, 1.3528574 ],\n",
       "        [1.42561833, 1.09354599, 1.37367455, 1.01840673, 1.55776998]]])"
      ]
     },
     "execution_count": 22,
     "metadata": {},
     "output_type": "execute_result"
    }
   ],
   "source": [
    "# your code/answer here\n",
    "d=np.add(a,c)\n",
    "d\n",
    "#Because both arrays have the same shape"
   ]
  },
  {
   "cell_type": "markdown",
   "metadata": {},
   "source": [
    "#### 11. Print *a* and *d*. Notice the difference and relation of the two array in terms of the values? Explain."
   ]
  },
  {
   "cell_type": "code",
   "execution_count": 27,
   "metadata": {
    "scrolled": true
   },
   "outputs": [
    {
     "name": "stdout",
     "output_type": "stream",
     "text": [
      "a\n",
      "[[[0.1711047  0.90780295 0.16939483 0.19732909 0.63467959]\n",
      "  [0.58683358 0.62160708 0.89905277 0.09520157 0.37340338]\n",
      "  [0.80209481 0.89220193 0.46408587 0.37820546 0.20352308]]\n",
      "\n",
      " [[0.15090699 0.78610244 0.8967913  0.4513328  0.9379103 ]\n",
      "  [0.36705642 0.73399762 0.15900843 0.81605231 0.3528574 ]\n",
      "  [0.42561833 0.09354599 0.37367455 0.01840673 0.55776998]]]\n",
      "d\n",
      "[[[1.1711047  1.90780295 1.16939483 1.19732909 1.63467959]\n",
      "  [1.58683358 1.62160708 1.89905277 1.09520157 1.37340338]\n",
      "  [1.80209481 1.89220193 1.46408587 1.37820546 1.20352308]]\n",
      "\n",
      " [[1.15090699 1.78610244 1.8967913  1.4513328  1.9379103 ]\n",
      "  [1.36705642 1.73399762 1.15900843 1.81605231 1.3528574 ]\n",
      "  [1.42561833 1.09354599 1.37367455 1.01840673 1.55776998]]]\n"
     ]
    }
   ],
   "source": [
    "# your code/answer here\n",
    "print(\"a\")\n",
    "print(a)\n",
    "print(\"d\")\n",
    "print(d)\n",
    "\n",
    "#The two arrays have the same shape and differ in that in the variable d the elements have a value of +1"
   ]
  },
  {
   "cell_type": "markdown",
   "metadata": {},
   "source": [
    "#### 12. Multiply *a* and *c*. Assign the result to *e*."
   ]
  },
  {
   "cell_type": "code",
   "execution_count": 28,
   "metadata": {},
   "outputs": [
    {
     "name": "stdout",
     "output_type": "stream",
     "text": [
      "e\n",
      "[[[0.1711047  0.90780295 0.16939483 0.19732909 0.63467959]\n",
      "  [0.58683358 0.62160708 0.89905277 0.09520157 0.37340338]\n",
      "  [0.80209481 0.89220193 0.46408587 0.37820546 0.20352308]]\n",
      "\n",
      " [[0.15090699 0.78610244 0.8967913  0.4513328  0.9379103 ]\n",
      "  [0.36705642 0.73399762 0.15900843 0.81605231 0.3528574 ]\n",
      "  [0.42561833 0.09354599 0.37367455 0.01840673 0.55776998]]]\n"
     ]
    }
   ],
   "source": [
    "# your code here\n",
    "\n",
    "e=np.multiply(a,c)\n",
    "print(\"e\")\n",
    "print(e)\n"
   ]
  },
  {
   "cell_type": "markdown",
   "metadata": {},
   "source": [
    "#### 13. Does *e* equal to *a*? Why or why not?\n"
   ]
  },
  {
   "cell_type": "code",
   "execution_count": null,
   "metadata": {},
   "outputs": [],
   "source": [
    "# your code/answer here\n",
    "\n",
    "#By multiplying the arrays a and c, we get as a result the array a, since we are multiplying it by 1"
   ]
  },
  {
   "cell_type": "markdown",
   "metadata": {},
   "source": [
    "#### 14. Identify the max, min, and mean values in *d*. Assign those values to variables *d_max*, *d_min* and *d_mean*."
   ]
  },
  {
   "cell_type": "code",
   "execution_count": 31,
   "metadata": {},
   "outputs": [
    {
     "name": "stdout",
     "output_type": "stream",
     "text": [
      "The max is:1.937910303828429\n",
      "The min is: 1.0184067299349437\n",
      "The mean is: 1.4839184093260738\n"
     ]
    }
   ],
   "source": [
    "# your code here\n",
    "d_max =np.max(d)\n",
    "d_min =np.min(d)\n",
    "d_mean =np.mean(d)\n",
    "\n",
    "print(f\"The max is:{d_max}\") \n",
    "print(f\"The min is: {d_min}\")\n",
    "print(f\"The mean is: {d_mean}\")"
   ]
  },
  {
   "cell_type": "markdown",
   "metadata": {},
   "source": [
    "#### 15. Now we want to label the values in *d*. First create an empty array *f* with the same shape (i.e. 2x3x5) as *d* using `np.empty`.\n"
   ]
  },
  {
   "cell_type": "code",
   "execution_count": 32,
   "metadata": {},
   "outputs": [
    {
     "name": "stdout",
     "output_type": "stream",
     "text": [
      "f\n",
      "[[[0.1711047  0.90780295 0.16939483 0.19732909 0.63467959]\n",
      "  [0.58683358 0.62160708 0.89905277 0.09520157 0.37340338]\n",
      "  [0.80209481 0.89220193 0.46408587 0.37820546 0.20352308]]\n",
      "\n",
      " [[0.15090699 0.78610244 0.8967913  0.4513328  0.9379103 ]\n",
      "  [0.36705642 0.73399762 0.15900843 0.81605231 0.3528574 ]\n",
      "  [0.42561833 0.09354599 0.37367455 0.01840673 0.55776998]]]\n"
     ]
    }
   ],
   "source": [
    "# your code here\n",
    "f = np.empty([2,3,5])\n",
    "print(\"f\")\n",
    "print(f)"
   ]
  },
  {
   "cell_type": "markdown",
   "metadata": {},
   "source": [
    "#### 16. Populate the values in *f*. \n",
    "\n",
    "For each value in *d*, if it's larger than *d_min* but smaller than *d_mean*, assign 25 to the corresponding value in *f*. If a value in *d* is larger than *d_mean* but smaller than *d_max*, assign 75 to the corresponding value in *f*. If a value equals to *d_mean*, assign 50 to the corresponding value in *f*. Assign 0 to the corresponding value(s) in *f* for *d_min* in *d*. Assign 100 to the corresponding value(s) in *f* for *d_max* in *d*. In the end, f should have only the following values: 0, 25, 50, 75, and 100.\n",
    "\n",
    "**Note**: you don't have to use Numpy in this question."
   ]
  },
  {
   "cell_type": "code",
   "execution_count": 35,
   "metadata": {},
   "outputs": [],
   "source": [
    "# your code here\n",
    "\n",
    "f= 25 * (d > d_min) * (d < d_mean) + 75 * (d < d_max) * (d > d_mean) + 50 * (d == d_mean) + 0 * (d == d_min) + 100 * (d == d_max)\n",
    "        \n"
   ]
  },
  {
   "cell_type": "markdown",
   "metadata": {},
   "source": [
    "#### 17. Print *d* and *f*. Do you have your expected *f*?\n",
    "For instance, if your *d* is:\n",
    "```python\n",
    "[[[1.85836099, 1.67064465, 1.62576044, 1.40243961, 1.88454931],\n",
    "[1.75354326, 1.69403643, 1.36729252, 1.61415071, 1.12104981],\n",
    "[1.72201435, 1.1862918 , 1.87078449, 1.7726778 , 1.88180042]],\n",
    "[[1.44747908, 1.31673383, 1.02000951, 1.52218947, 1.97066381],\n",
    "[1.79129243, 1.74983003, 1.96028037, 1.85166831, 1.65450881],\n",
    "[1.18068344, 1.9587381 , 1.00656599, 1.93402165, 1.73514584]]]\n",
    "```\n",
    "Your *f* should be:\n",
    "```python\n",
    "[[[ 75.,  75.,  75.,  25.,  75.],\n",
    "[ 75.,  75.,  25.,  25.,  25.],\n",
    "[ 75.,  25.,  75.,  75.,  75.]],\n",
    "[[ 25.,  25.,  25.,  25., 100.],\n",
    "[ 75.,  75.,  75.,  75.,  75.],\n",
    "[ 25.,  75.,   0.,  75.,  75.]]]\n",
    "```"
   ]
  },
  {
   "cell_type": "code",
   "execution_count": 36,
   "metadata": {},
   "outputs": [
    {
     "name": "stdout",
     "output_type": "stream",
     "text": [
      "[[[1.1711047  1.90780295 1.16939483 1.19732909 1.63467959]\n",
      "  [1.58683358 1.62160708 1.89905277 1.09520157 1.37340338]\n",
      "  [1.80209481 1.89220193 1.46408587 1.37820546 1.20352308]]\n",
      "\n",
      " [[1.15090699 1.78610244 1.8967913  1.4513328  1.9379103 ]\n",
      "  [1.36705642 1.73399762 1.15900843 1.81605231 1.3528574 ]\n",
      "  [1.42561833 1.09354599 1.37367455 1.01840673 1.55776998]]]\n",
      "[[[ 25  75  25  25  75]\n",
      "  [ 75  75  75  25  25]\n",
      "  [ 75  75  25  25  25]]\n",
      "\n",
      " [[ 25  75  75  25 100]\n",
      "  [ 25  75  25  75  25]\n",
      "  [ 25  25  25   0  75]]]\n"
     ]
    }
   ],
   "source": [
    "# your code here\n",
    "\n",
    "print(d)\n",
    "print(f)"
   ]
  },
  {
   "cell_type": "markdown",
   "metadata": {},
   "source": [
    "#### 18. Bonus question: instead of using numbers (i.e. 0, 25, 50, 75, and 100), use string values  (\"A\", \"B\", \"C\", \"D\", and \"E\") to label the array elements. For the example above, the expected result is:\n",
    "\n",
    "```python\n",
    "[[[ 'D',  'D',  'D',  'B',  'D'],\n",
    "[ 'D',  'D',  'B',  'B',  'B'],\n",
    "[ 'D',  'B',  'D',  'D',  'D']],\n",
    "[[ 'B',  'B',  'B',  'B',  'E'],\n",
    "[ 'D',  'D',  'D',  'D',  'D'],\n",
    "[ 'B',  'D',   'A',  'D', 'D']]]\n",
    "```\n",
    "**Note**: you don't have to use Numpy in this question."
   ]
  },
  {
   "cell_type": "code",
   "execution_count": 34,
   "metadata": {},
   "outputs": [
    {
     "name": "stdout",
     "output_type": "stream",
     "text": [
      "[[['B' 'C' 'B' 'B' 'C']\n",
      "  ['C' 'C' 'C' 'B' 'B']\n",
      "  ['C' 'C' 'B' 'B' 'B']]\n",
      "\n",
      " [['B' 'C' 'C' 'B' 'E']\n",
      "  ['B' 'C' 'B' 'C' 'B']\n",
      "  ['B' 'B' 'B' 'A' 'C']]]\n"
     ]
    }
   ],
   "source": [
    "# your code here\n",
    "g = np.empty([2,3,5])\n",
    "\n",
    "g = [[['B' if d_min < i < d_mean else 'D' if i == d_mean else 'C' if d_mean < i < d_max else 'A' if i == d_min else 'E' for i in array_in] for array_in in array_out] for array_out in d]      \n",
    "\n",
    "g=np.asarray(g)             \n",
    "\n",
    "\n",
    "print(g)    "
   ]
  }
 ],
 "metadata": {
  "kernelspec": {
   "display_name": "Python [conda env:lab_env]",
   "language": "python",
   "name": "conda-env-lab_env-py"
  },
  "language_info": {
   "codemirror_mode": {
    "name": "ipython",
    "version": 3
   },
   "file_extension": ".py",
   "mimetype": "text/x-python",
   "name": "python",
   "nbconvert_exporter": "python",
   "pygments_lexer": "ipython3",
   "version": "3.7.7"
  }
 },
 "nbformat": 4,
 "nbformat_minor": 2
}
